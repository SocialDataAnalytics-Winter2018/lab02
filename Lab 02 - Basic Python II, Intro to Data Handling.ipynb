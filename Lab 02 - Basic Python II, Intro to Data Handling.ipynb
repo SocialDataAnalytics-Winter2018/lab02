{
 "cells": [
  {
   "cell_type": "markdown",
   "metadata": {},
   "source": [
    "# Lab 02 - Flow Control, Functions, and Data Handling I"
   ]
  },
  {
   "cell_type": "markdown",
   "metadata": {},
   "source": [
    "## Review of Lab 1\n",
    "\n",
    "1. What is the difference between a dictionary and a list?\n",
    "    1. A dictionary stores unordered values of the same time, a list is ordered.\n",
    "    2. A dictionary is unmutable, while a list is mutable.\n",
    "    3. A dictionary stores key-value pairs, while a list stores ordered values.\n",
    "    4. Neither, they are the same with slightly different syntax.\n",
    "2. Complete the following code to make this print the value in the list `age` minus the mean."
   ]
  },
  {
   "cell_type": "code",
   "execution_count": null,
   "metadata": {
    "collapsed": true
   },
   "outputs": [],
   "source": [
    "age = [10, 12, 27, 32, 11, 72, 60]\n",
    "age_mean = sum(age)/len(age)\n",
    "for i in ___:\n",
    "    print(___)"
   ]
  },
  {
   "cell_type": "markdown",
   "metadata": {},
   "source": [
    "## Flow Control\n",
    "\n",
    "Flow control refers to which parts of the program are executed, in what order. Types of flow control include loops, conditional statements, and functions. The diagram below shows a flow chart which replicates the execution of a while loop."
   ]
  },
  {
   "cell_type": "markdown",
   "metadata": {},
   "source": [
    "![](img/flow-chart.gif)"
   ]
  },
  {
   "cell_type": "markdown",
   "metadata": {},
   "source": [
    "We've already seen how a for loop goes through a list. For each item of a  list, the loop executes some action.\n"
   ]
  },
  {
   "cell_type": "code",
   "execution_count": null,
   "metadata": {
    "collapsed": true
   },
   "outputs": [],
   "source": [
    "list1 = [2, 3, 5, 7, 11, 13, 17]\n",
    "for i in list1:\n",
    "    print(str(i) + \" is a prime number.\")"
   ]
  },
  {
   "cell_type": "markdown",
   "metadata": {},
   "source": [
    "Another type of loop is a while loop. A while loop continues until some *conditional statement* becomes false."
   ]
  },
  {
   "cell_type": "code",
   "execution_count": null,
   "metadata": {
    "collapsed": true
   },
   "outputs": [],
   "source": [
    "i = 0\n",
    "while i < 10:\n",
    "    print(i)\n",
    "    i = i + 1"
   ]
  },
  {
   "cell_type": "markdown",
   "metadata": {},
   "source": [
    "### Conditional statements\n",
    "\n",
    "We can think of conditional statements as ways of directing the program into where to go. Say we want to make some claim about the state of the sky based on the observation of precipitation. In a narration, we could say:\n",
    "\n",
    "<code>\n",
    "  if it is raining then\n",
    "    the sky is cloudy\n",
    "  else if it is snowing then\n",
    "    the sky is cloudy\n",
    "  else\n",
    "    the sky is clear\n",
    "</code>"
   ]
  },
  {
   "cell_type": "markdown",
   "metadata": {},
   "source": [
    "In this case, \"is it raining?\" is a conditional question, and it either has the answer of true or false. We can test the condition of whether or not it is raining. This is a conditional statement."
   ]
  },
  {
   "cell_type": "markdown",
   "metadata": {},
   "source": [
    "In code, we could have booleans which denote the status of the sky, whether it is snowing, and whether it is raining. This would look like this:"
   ]
  },
  {
   "cell_type": "code",
   "execution_count": null,
   "metadata": {
    "collapsed": true
   },
   "outputs": [],
   "source": [
    "sky = None\n",
    "is_raining = True\n",
    "is_snowing = False\n",
    "if is_raining == True:\n",
    "    sky = \"cloudy\"\n",
    "elif is_snowing == True:\n",
    "    sky = \"cloudy\"\n",
    "else:\n",
    "    sky = \"clear\""
   ]
  },
  {
   "cell_type": "markdown",
   "metadata": {},
   "source": [
    "This code introduces some new words. **<code>if</code>** checks if a condition is met. **<code>elif</code>** is short for \"else if\", which means \"if it fails the previous condition but meets the current condition, do this thing.\" **<code>else</code>** is when all else fails, do this last thing."
   ]
  },
  {
   "cell_type": "markdown",
   "metadata": {},
   "source": [
    "In code, the test of whether or not it is raining becomes <code>is_raining == True</code>. It is the condition statement. After we run this code, we can check on the state of the sky."
   ]
  },
  {
   "cell_type": "code",
   "execution_count": null,
   "metadata": {
    "collapsed": true
   },
   "outputs": [],
   "source": [
    "print(sky)"
   ]
  },
  {
   "cell_type": "markdown",
   "metadata": {},
   "source": [
    "For booleans, we don't need to type in <code>== True</code>. A shorthand for the above code would be the following."
   ]
  },
  {
   "cell_type": "code",
   "execution_count": null,
   "metadata": {
    "collapsed": true
   },
   "outputs": [],
   "source": [
    "sky = None\n",
    "is_raining = True\n",
    "is_snowing = False\n",
    "if is_raining:\n",
    "    sky = \"cloudy\"\n",
    "elif is_snowing:\n",
    "    sky = \"cloudy\"\n",
    "else:\n",
    "    sky = \"clear\""
   ]
  },
  {
   "cell_type": "markdown",
   "metadata": {},
   "source": [
    "### Comparison operators\n",
    "\n",
    "Most of the time we're not working only with booleans. We want to make comparisons between different numbers and strings. This is why there are a set of operators which allow us to compare different numbers and strings. For now, we will focus on numerical comparisons. There are six major ones."
   ]
  },
  {
   "cell_type": "code",
   "execution_count": null,
   "metadata": {
    "collapsed": true
   },
   "outputs": [],
   "source": [
    "## ==, equality\n",
    "3 == 3"
   ]
  },
  {
   "cell_type": "code",
   "execution_count": null,
   "metadata": {
    "collapsed": true
   },
   "outputs": [],
   "source": [
    "## != inequality\n",
    "3 != 3"
   ]
  },
  {
   "cell_type": "code",
   "execution_count": null,
   "metadata": {
    "collapsed": true
   },
   "outputs": [],
   "source": [
    "## > greater than\n",
    "3 > 2"
   ]
  },
  {
   "cell_type": "code",
   "execution_count": null,
   "metadata": {
    "collapsed": true
   },
   "outputs": [],
   "source": [
    "## greater than or equal to\n",
    "3 >= 3"
   ]
  },
  {
   "cell_type": "code",
   "execution_count": null,
   "metadata": {
    "collapsed": true
   },
   "outputs": [],
   "source": [
    "## less than\n",
    "3 < 2"
   ]
  },
  {
   "cell_type": "code",
   "execution_count": null,
   "metadata": {
    "collapsed": true
   },
   "outputs": [],
   "source": [
    "## less than or equal to\n",
    "3 <= 3"
   ]
  },
  {
   "cell_type": "markdown",
   "metadata": {},
   "source": [
    "You can then use these conditional operators within the if/else framework."
   ]
  },
  {
   "cell_type": "code",
   "execution_count": null,
   "metadata": {
    "collapsed": true
   },
   "outputs": [],
   "source": [
    "speed_limit = 60\n",
    "if speed_limit <= 60:\n",
    "    print(\"You're driving equal to or below the speed limit.\")\n",
    "else:\n",
    "    print(\"You're going too fast. Slow down, buddy.\")"
   ]
  },
  {
   "cell_type": "markdown",
   "metadata": {},
   "source": [
    "## Logical operators\n",
    "\n",
    "You can chain various conditional statements together with <code>and</code> and <code>or</code>. As a short description, <code>and</code> requires that all conditions must be met to be true, while <code>or</code> requires only that one condition must be met to be true."
   ]
  },
  {
   "cell_type": "markdown",
   "metadata": {},
   "source": [
    "In words, here's an example:\n",
    "\n",
    "<pre>\n",
    "If the fire alarm has gone off **and** we can see smoke, then there is a fire.\n",
    "</pre>\n",
    "\n",
    "If both of these are true, then there's a fire. If one of these is false (e.g. no smoke), then there's no fire. If both are false, then there's no fire.\n",
    "\n",
    "Contrast that with an <code>or</code>: \n",
    "\n",
    "<pre>\n",
    "If the fire alarm has gone off **or** we can see smoke, then there is a fire.\n",
    "</pre>\n",
    "\n",
    "If at least one of these are true, then there's a fire. If both are false, then there's no fire."
   ]
  },
  {
   "cell_type": "code",
   "execution_count": null,
   "metadata": {
    "collapsed": true
   },
   "outputs": [],
   "source": [
    "True and True"
   ]
  },
  {
   "cell_type": "code",
   "execution_count": null,
   "metadata": {
    "collapsed": true
   },
   "outputs": [],
   "source": [
    "True and False ## order doesn't matter here. this can be False and True"
   ]
  },
  {
   "cell_type": "code",
   "execution_count": null,
   "metadata": {
    "collapsed": true
   },
   "outputs": [],
   "source": [
    "False and False"
   ]
  },
  {
   "cell_type": "code",
   "execution_count": null,
   "metadata": {
    "collapsed": true
   },
   "outputs": [],
   "source": [
    "True or True"
   ]
  },
  {
   "cell_type": "code",
   "execution_count": null,
   "metadata": {
    "collapsed": true
   },
   "outputs": [],
   "source": [
    "True or False ## order doesn't matter here. this can be False or True"
   ]
  },
  {
   "cell_type": "code",
   "execution_count": null,
   "metadata": {
    "collapsed": true
   },
   "outputs": [],
   "source": [
    "False or False"
   ]
  },
  {
   "cell_type": "markdown",
   "metadata": {},
   "source": [
    "This looks like the following for comparisons."
   ]
  },
  {
   "cell_type": "code",
   "execution_count": null,
   "metadata": {
    "collapsed": true
   },
   "outputs": [],
   "source": [
    "(4 > 3) and (8 > 5)"
   ]
  },
  {
   "cell_type": "code",
   "execution_count": null,
   "metadata": {
    "collapsed": true
   },
   "outputs": [],
   "source": [
    "True or (0.2 < -2)"
   ]
  },
  {
   "cell_type": "code",
   "execution_count": null,
   "metadata": {
    "collapsed": true
   },
   "outputs": [],
   "source": [
    "(-3 == 2) and (3 == 3)"
   ]
  },
  {
   "cell_type": "code",
   "execution_count": null,
   "metadata": {
    "collapsed": true
   },
   "outputs": [],
   "source": [
    "(\"hello\" == \"kitty\") and True"
   ]
  },
  {
   "cell_type": "markdown",
   "metadata": {},
   "source": [
    "**Exercise 1**\n",
    "\n",
    "Complete these code snippets.\n",
    "\n",
    "<dd>1. This code should go through numbers 0 to 20 and print the number if it is equal to 10. </dd>"
   ]
  },
  {
   "cell_type": "code",
   "execution_count": null,
   "metadata": {
    "collapsed": true
   },
   "outputs": [],
   "source": [
    "numbers = range(0, 21)\n",
    "for ___ in ____:\n",
    "    if ___:\n",
    "        print(___)"
   ]
  },
  {
   "cell_type": "markdown",
   "metadata": {},
   "source": [
    "<dd>2. This code should go through numbers 0 to 100 and print the number if it is divisible by 20.</dd>"
   ]
  },
  {
   "cell_type": "code",
   "execution_count": null,
   "metadata": {
    "collapsed": true
   },
   "outputs": [],
   "source": [
    "numbers = range(0, 101)\n",
    "for ___ in ___:\n",
    "    if ___:\n",
    "        print(___)"
   ]
  },
  {
   "cell_type": "markdown",
   "metadata": {},
   "source": [
    "<dd>3. Begin with a variable set to 100. Subtract 1 from the variable until it equals zero.</dd>"
   ]
  },
  {
   "cell_type": "code",
   "execution_count": null,
   "metadata": {
    "collapsed": true
   },
   "outputs": [],
   "source": [
    "## code goes here"
   ]
  },
  {
   "cell_type": "markdown",
   "metadata": {},
   "source": [
    "## Functions\n",
    "\n",
    "A *function* is a piece of code which can written once and run many times. When a function is executed, it is said to be *called*. Python has a bunch of built-in functions, some of which we've used already; <code>print</code> and <code>str</code> are two examples."
   ]
  },
  {
   "cell_type": "markdown",
   "metadata": {},
   "source": [
    "Functions have two important parts: the *arguments* are what goes between the parentheses. They are special variables which the function uses internally. Second is the *return value*, a single value which the function is said to \"return\". Let's illustrate this with an example."
   ]
  },
  {
   "cell_type": "markdown",
   "metadata": {},
   "source": [
    "There a number of useful functions for working with lists. One of them is <code>len</code>, which counts the number of items in a given list. The argument for <code>len</code> is the list itself. The return value is the number of items in the list."
   ]
  },
  {
   "cell_type": "code",
   "execution_count": null,
   "metadata": {
    "collapsed": true
   },
   "outputs": [],
   "source": [
    "list1 = [1, 2, 4, 8]\n",
    "len(list1)"
   ]
  },
  {
   "cell_type": "code",
   "execution_count": null,
   "metadata": {
    "collapsed": true
   },
   "outputs": [],
   "source": [
    "length_of_list = len(list1)"
   ]
  },
  {
   "cell_type": "markdown",
   "metadata": {},
   "source": [
    "<code>sorted</code> takes a list as an argument and returns a sorted list."
   ]
  },
  {
   "cell_type": "code",
   "execution_count": null,
   "metadata": {
    "collapsed": true
   },
   "outputs": [],
   "source": [
    "list2 = [2, 1, 8, 4]\n",
    "sorted(list2)"
   ]
  },
  {
   "cell_type": "markdown",
   "metadata": {},
   "source": [
    "There's a good deal of functions for dealing with Python types. We've already used <code>str</code> to convert a number to a string. The number is the argument and the corresponding string is the return value. There's corresponding functions in <code>int</code> and <code>float</code>, and we can even convert data structures using <code>list</code> and <code>tuple</code>. "
   ]
  },
  {
   "cell_type": "code",
   "execution_count": null,
   "metadata": {
    "collapsed": true
   },
   "outputs": [],
   "source": [
    "int(\"12\")"
   ]
  },
  {
   "cell_type": "code",
   "execution_count": null,
   "metadata": {
    "collapsed": true
   },
   "outputs": [],
   "source": [
    "str(10)"
   ]
  },
  {
   "cell_type": "code",
   "execution_count": null,
   "metadata": {
    "collapsed": true
   },
   "outputs": [],
   "source": [
    "int(\"10.5\")"
   ]
  },
  {
   "cell_type": "code",
   "execution_count": null,
   "metadata": {
    "collapsed": true
   },
   "outputs": [],
   "source": [
    "list( (1, 2, 3) )"
   ]
  },
  {
   "cell_type": "code",
   "execution_count": null,
   "metadata": {
    "collapsed": true
   },
   "outputs": [],
   "source": [
    "tuple( [3, 2, 1] )"
   ]
  },
  {
   "cell_type": "markdown",
   "metadata": {},
   "source": [
    "### User-defined functions\n",
    "\n",
    "You can define your own functions, which is helpful if you plan to use a piece of code over and over again. Here's an example. This is a function which takes five numbers and averages them."
   ]
  },
  {
   "cell_type": "code",
   "execution_count": null,
   "metadata": {
    "collapsed": true
   },
   "outputs": [],
   "source": [
    "def my_five_mean(one, two, three, four, five):\n",
    "    my_sum = one + two + three + four + five\n",
    "    return my_sum / 5"
   ]
  },
  {
   "cell_type": "code",
   "execution_count": null,
   "metadata": {
    "collapsed": true
   },
   "outputs": [],
   "source": [
    "my_five_mean(1, 2, 4, 8, 10)"
   ]
  },
  {
   "cell_type": "markdown",
   "metadata": {},
   "source": [
    "In this case, you first write <code>def</code> to denote that you're about to define a function. You give it a name, in this case, <code>my_five_mean</code>. Then you need to define arguments which you will take. You can have a virtually unlimited number of arguments. They are separated with a comma. Within the function, arguments are variables which you can use. Lastly, you return the value which should be the result."
   ]
  },
  {
   "cell_type": "markdown",
   "metadata": {},
   "source": [
    "A more general version of this function would just take a list as an argument."
   ]
  },
  {
   "cell_type": "code",
   "execution_count": null,
   "metadata": {
    "collapsed": true
   },
   "outputs": [],
   "source": [
    "def my_mean(my_list): \n",
    "    sum = 0\n",
    "    for i in my_list:\n",
    "        sum += i ## equivalent to sum = sum + i\n",
    "    return sum / len(my_list)"
   ]
  },
  {
   "cell_type": "code",
   "execution_count": null,
   "metadata": {
    "collapsed": true
   },
   "outputs": [],
   "source": [
    "my_mean([1, 2, 4, 8, 10])"
   ]
  },
  {
   "cell_type": "markdown",
   "metadata": {},
   "source": [
    "## Methods\n",
    "\n",
    "A *method* which is a function which is associated with an object. The biggest difference is the syntax, which is:\n",
    "\n",
    "<pre>\n",
    "object.method(arguments)\n",
    "</pre>"
   ]
  },
  {
   "cell_type": "markdown",
   "metadata": {},
   "source": [
    "Lists have a set of very useful methods which we can use for adding elements, getting counts, and removing elements."
   ]
  },
  {
   "cell_type": "code",
   "execution_count": null,
   "metadata": {
    "collapsed": true
   },
   "outputs": [],
   "source": [
    "my_list = [1, 2, 3]"
   ]
  },
  {
   "cell_type": "code",
   "execution_count": null,
   "metadata": {
    "collapsed": true
   },
   "outputs": [],
   "source": [
    "my_list.append(4)"
   ]
  },
  {
   "cell_type": "code",
   "execution_count": null,
   "metadata": {
    "collapsed": true
   },
   "outputs": [],
   "source": [
    "my_list"
   ]
  },
  {
   "cell_type": "code",
   "execution_count": null,
   "metadata": {
    "collapsed": true
   },
   "outputs": [],
   "source": [
    "my_list.extend([1, 2, 4])"
   ]
  },
  {
   "cell_type": "code",
   "execution_count": null,
   "metadata": {
    "collapsed": true
   },
   "outputs": [],
   "source": [
    "my_list"
   ]
  },
  {
   "cell_type": "code",
   "execution_count": null,
   "metadata": {
    "collapsed": true
   },
   "outputs": [],
   "source": [
    "my_list.count(4) "
   ]
  },
  {
   "cell_type": "code",
   "execution_count": null,
   "metadata": {
    "collapsed": true
   },
   "outputs": [],
   "source": [
    "my_list.remove(1)"
   ]
  },
  {
   "cell_type": "code",
   "execution_count": null,
   "metadata": {
    "collapsed": true
   },
   "outputs": [],
   "source": [
    "my_list"
   ]
  },
  {
   "cell_type": "code",
   "execution_count": null,
   "metadata": {
    "collapsed": true
   },
   "outputs": [],
   "source": [
    "my_list.clear()"
   ]
  },
  {
   "cell_type": "code",
   "execution_count": null,
   "metadata": {
    "collapsed": true
   },
   "outputs": [],
   "source": [
    "my_list"
   ]
  },
  {
   "cell_type": "markdown",
   "metadata": {},
   "source": [
    "Strings also have a set of methods which are helpful for manipulation and identifying patterns."
   ]
  },
  {
   "cell_type": "code",
   "execution_count": null,
   "metadata": {
    "collapsed": true
   },
   "outputs": [],
   "source": [
    "my_string = \"this is a string. it is a good string\""
   ]
  },
  {
   "cell_type": "code",
   "execution_count": null,
   "metadata": {
    "collapsed": true
   },
   "outputs": [],
   "source": [
    "my_string.capitalize()"
   ]
  },
  {
   "cell_type": "code",
   "execution_count": null,
   "metadata": {
    "collapsed": true
   },
   "outputs": [],
   "source": [
    "my_string.find(\"it\")"
   ]
  },
  {
   "cell_type": "code",
   "execution_count": null,
   "metadata": {
    "collapsed": true
   },
   "outputs": [],
   "source": [
    "my_string.find(\"blah\")"
   ]
  },
  {
   "cell_type": "code",
   "execution_count": null,
   "metadata": {
    "collapsed": true
   },
   "outputs": [],
   "source": [
    "my_string.count(\"is\")"
   ]
  },
  {
   "cell_type": "code",
   "execution_count": null,
   "metadata": {
    "collapsed": true
   },
   "outputs": [],
   "source": [
    "my_string.replace(\"string\", \"bit of text\")"
   ]
  },
  {
   "cell_type": "code",
   "execution_count": null,
   "metadata": {
    "collapsed": true
   },
   "outputs": [],
   "source": [
    "my_string.split()"
   ]
  },
  {
   "cell_type": "markdown",
   "metadata": {},
   "source": [
    "**Exercise 2**\n",
    "\n",
    "Complete these code snippets.\n",
    "\n",
    "<dd>1. This code checks if one string is contained within another string. If it does, return True. If not, return False.</dd>"
   ]
  },
  {
   "cell_type": "code",
   "execution_count": null,
   "metadata": {
    "collapsed": true
   },
   "outputs": [],
   "source": [
    "def checkString(___, ___):\n",
    "    if ___:\n",
    "        return ___\n",
    "    else:\n",
    "        return ___"
   ]
  },
  {
   "cell_type": "markdown",
   "metadata": {},
   "source": [
    "<dd>2. This code checks if the length of a list is longer than some predefined limit. It prints out a message if it is, and prints out another message if it is not.</dd>"
   ]
  },
  {
   "cell_type": "code",
   "execution_count": null,
   "metadata": {
    "collapsed": true
   },
   "outputs": [],
   "source": [
    "def isLongerThanLimit(___, limit):\n",
    "    if ____:\n",
    "        print(\"This string is longer than the limit!\")\n",
    "    else:\n",
    "        print(\"This string is not longer than the limit. Whew.\")"
   ]
  },
  {
   "cell_type": "markdown",
   "metadata": {},
   "source": [
    "<dd>3. Write a function which takes two numbers x and y, raises x to the y power, and subtracts one. Return the result. You can call this function any name you'd like.</dd>"
   ]
  },
  {
   "cell_type": "markdown",
   "metadata": {},
   "source": [
    "## Data Frames\n",
    "\n",
    "When we undertake data analysis within social science, we tend to think of datasets which take on a *rectangular* format. Or, in more common terms, in a spreadsheet."
   ]
  },
  {
   "cell_type": "markdown",
   "metadata": {},
   "source": [
    "For instance, this is a spreadsheet of MP candidates in the 42nd Canadian national election."
   ]
  },
  {
   "cell_type": "markdown",
   "metadata": {},
   "source": [
    "![](img/data-frame.png)"
   ]
  },
  {
   "cell_type": "markdown",
   "metadata": {},
   "source": [
    "In typical data analysis, we call the spreadsheet a *data frame*. This is going to be usually be our basic object of analysis for social data. "
   ]
  },
  {
   "cell_type": "markdown",
   "metadata": {},
   "source": [
    "A data frame consists of *rows* and *columns*. Each row is an observation in the data and our unit of analysis. In the case of the data frame above, each row represents an MP candidate in the election. So for instance, the highlighted row in this data frame is the candidate, Lorraine E. Barnett, who ran as a Conservative candidate in the Avalon district of Newfoundland and Labrador (she lost)."
   ]
  },
  {
   "cell_type": "markdown",
   "metadata": {},
   "source": [
    "![](img/data-frame-row.png)"
   ]
  },
  {
   "cell_type": "markdown",
   "metadata": {},
   "source": [
    "Each column is some attribute, characteristic, or variable about each unit of analysis. For the candidates, this includes their \"Political Affiliation\", the French name of the party \"Appartenance politique\", the Candidate's Family and First name, etc."
   ]
  },
  {
   "cell_type": "markdown",
   "metadata": {},
   "source": [
    "![](img/data-frame-column.png)"
   ]
  },
  {
   "cell_type": "markdown",
   "metadata": {
    "collapsed": true
   },
   "source": [
    "## Data Frames in Python\n",
    "\n",
    "The main machinery for handling data frames and associated data structures in Python are a set of modules called <code>NumPy</code> and <code>pandas</code>. Usually, these modules are imported using the <code>import</code> function. By convention, these are called <code>np</code> and <code>pd</code>."
   ]
  },
  {
   "cell_type": "code",
   "execution_count": null,
   "metadata": {
    "collapsed": true
   },
   "outputs": [],
   "source": [
    "import numpy as np\n",
    "import pandas as pd"
   ]
  },
  {
   "cell_type": "markdown",
   "metadata": {},
   "source": [
    "To create data frame in Python, we use the <code>DataFrame</code> *constructor*. A constructor is a special kind of method which creates a new instantiation of a Python object.\n",
    "\n",
    "The constructor is loaded from the pandas module, so we begin it with a <code>pd</code>."
   ]
  },
  {
   "cell_type": "code",
   "execution_count": null,
   "metadata": {
    "collapsed": true
   },
   "outputs": [],
   "source": [
    "# Create an empty dataframe\n",
    "df = pd.DataFrame()"
   ]
  },
  {
   "cell_type": "code",
   "execution_count": null,
   "metadata": {
    "collapsed": true
   },
   "outputs": [],
   "source": [
    "df"
   ]
  },
  {
   "cell_type": "markdown",
   "metadata": {},
   "source": [
    "This creates an empty DataFrame, which is not of much use to us. We can load data into a data frame in a few ways. We can pass a list of tuples to the constructor. Or we could pass a list of dictionaries."
   ]
  },
  {
   "cell_type": "code",
   "execution_count": null,
   "metadata": {
    "collapsed": true
   },
   "outputs": [],
   "source": [
    "df_tuples = pd.DataFrame([(170, 100), (150, 80), (200, 130)])\n",
    "df_tuples"
   ]
  },
  {
   "cell_type": "code",
   "execution_count": null,
   "metadata": {
    "collapsed": true
   },
   "outputs": [],
   "source": [
    "df_dict = pd.DataFrame([{'Height': 170, 'Weight': 100}, \n",
    "                        {'Height': 150, 'Weight': 80}, \n",
    "                        {'Height': 200, 'Weight': 130}])\n",
    "df_dict"
   ]
  },
  {
   "cell_type": "markdown",
   "metadata": {},
   "source": [
    "Note a few things: typing the name of the data frame in Jupyter Notebook will display the data frame as a table for convenient viewing. If we pass a list of tuples of the <code>DataFrame</code> constructor, they won't have names by default. We do not have to do that when we pass a list of dictionaries."
   ]
  },
  {
   "cell_type": "code",
   "execution_count": null,
   "metadata": {
    "collapsed": true
   },
   "outputs": [],
   "source": [
    "# adding columns argument labels the columns\n",
    "df_tuples = pd.DataFrame([(170, 100), (150, 80), (200, 130)], \n",
    "                         columns = ['Height', 'Weight'])\n",
    "df_tuples"
   ]
  },
  {
   "cell_type": "markdown",
   "metadata": {},
   "source": [
    "Most of the time, however, we won't be passing lists of tuples or dictionaries to create a data frame. We will be loading in the data from a file."
   ]
  },
  {
   "cell_type": "markdown",
   "metadata": {},
   "source": [
    "## Reading and writing files\n",
    "\n",
    "The pandas module can load many different kinds of files, including those from Microsoft Excel, and other statistical packages such as Stata or SPSS. The format which we are going to rely on, however, is called Comma-Separated Values, or CSV. CSV files are spreadsheets which are, very simply divided by commas and new lines.\n",
    "\n",
    "For this lab, we are using [data](http://maps-cartes.ec.gc.ca/indicators-indicateurs/TableView.aspx?ID=1&lang=en) from Environment Canada which measures greenhouse emissions from large facilities. This file is originally in Excel format but I have converted it to CSV to demonstrate the format.\n",
    "\n",
    "These are the first two lines of the CSV file."
   ]
  },
  {
   "cell_type": "raw",
   "metadata": {},
   "source": [
    "Facility ID,Organisation Name,Facility Name,Province,City,Address,Postal Code,NPRI ID,2014 GHG Emissions (kilotonnes of carbon dioxide equivalent),Facility GHG Data Link,NAICS Name,NAICS Data Link,Latitude,Longitude\n",
    "1,Produits forestiers R?solu,Division Alma,Quebec,Alma,1100 Melanion Street,G8B5W2,983,84.38,http://www.ec.gc.ca/ges-ghg/donnees-data/index.cfm?do=facility_info&amp;lang=En&amp;year=2014&amp;ghg_id=G10001,Mechanical Pulp Mills,http://www23.statcan.gc.ca/imdb/p3VD.pl?Function=getVDDetail&amp;db=imdb&amp;dis=2&amp;adm=8&amp;TVD=118464&amp;CVD=118471&amp;CST=01012012&amp;MLV=5&amp;CLV=5&amp;CHVD=&amp;CPV=322111,48.56335,-71.65609"
   ]
  },
  {
   "cell_type": "markdown",
   "metadata": {},
   "source": [
    "The first line is all the column names. Each of them is separated by a comma. The second line is the first data record. We can see in the Facility Name column, there's a comma in the value itself. Therefore, CSV will put the value in \"quotes\".\n",
    "\n",
    "You can load the file using the <code>read_csv</code> method. This method has a lot of different arguments to handle various types of files. You can learn these over time by looking the [pandas documentation](http://pandas.pydata.org/pandas-docs/stable/generated/pandas.read_csv.html). "
   ]
  },
  {
   "cell_type": "code",
   "execution_count": null,
   "metadata": {
    "collapsed": true
   },
   "outputs": [],
   "source": [
    "df_gg = pd.read_csv(\"data/Greenhouse_Gas_Emissions.csv\")"
   ]
  },
  {
   "cell_type": "markdown",
   "metadata": {},
   "source": [
    "Typing the data frame in Jupyter Notebook will print out the first 30 and the last 30 lines to avoid overloading your output.\n",
    "\n",
    "Something to note is that the first column of the data frame is not the first column in the file. The first column in the file is <code>Facility ID</code>. But the first column in the data frame is an unlabeled column. This is called the *index*. The index can be defined by us or it can be defined by pandas. If it isn't defined by us, pandas assigns an index which goes from 0 to n-1, where n is the number of rows in the file."
   ]
  },
  {
   "cell_type": "markdown",
   "metadata": {},
   "source": [
    "Once we get a file, we probably want to understand some different parts of it. The key variable in this file is greenhouse gas (GHG) emissions. There's also information on province of the facility, city, address, postal code, and latitude/longitude.\n",
    "\n",
    "So some basic ways we can learn about the data are to learn about the data frame itself and properties of particular columns.\n",
    "\n",
    "## Describing the DataFrame\n",
    "\n",
    "We can look at the <code>columns</code> list of the data frame to look at which columns are in the data. This is a little prettier than the <code>head</code> command above."
   ]
  },
  {
   "cell_type": "code",
   "execution_count": null,
   "metadata": {
    "collapsed": true
   },
   "outputs": [],
   "source": [
    "df_gg.columns"
   ]
  },
  {
   "cell_type": "markdown",
   "metadata": {},
   "source": [
    "We can also look at the <code>shape</code> tuple which tells us how many rows and columns are in the data frame. By convention, this tuple is in the form *(n, m)*, where *n* is the number of rows, and *m* is the number of columns."
   ]
  },
  {
   "cell_type": "code",
   "execution_count": null,
   "metadata": {
    "collapsed": true
   },
   "outputs": [],
   "source": [
    "df_gg.shape"
   ]
  },
  {
   "cell_type": "markdown",
   "metadata": {},
   "source": [
    "We can also use <code>dtypes</code> to understand the type of columns in our data."
   ]
  },
  {
   "cell_type": "code",
   "execution_count": null,
   "metadata": {
    "collapsed": true
   },
   "outputs": [],
   "source": [
    "df_gg.dtypes"
   ]
  },
  {
   "cell_type": "markdown",
   "metadata": {},
   "source": [
    "Most of the columns are of type <code>object</code>, which typically means they are strings. Facility ID is an int, while four other columns are floats. They have a 64 at the end of them, which means they can be up to 64 bits long. That's not important to know. You should focus on the type instead. Once you know the type, this can help you describe the individual columns.\n",
    "\n",
    "Lastly, you can use the <code>head()</code> and <code>tail()</code> methods to see the beginning and end of the file. You can pass a number as an optional argument to see several lines. By default, it will display 5."
   ]
  },
  {
   "cell_type": "code",
   "execution_count": null,
   "metadata": {
    "collapsed": true
   },
   "outputs": [],
   "source": [
    "df_gg.head()"
   ]
  },
  {
   "cell_type": "code",
   "execution_count": null,
   "metadata": {
    "collapsed": true
   },
   "outputs": [],
   "source": [
    "df_gg.tail()"
   ]
  },
  {
   "cell_type": "markdown",
   "metadata": {},
   "source": [
    "## Describing columns\n",
    "\n",
    "We generally want to try to detect some patterns in the data, and for that we need to analyze some properties of the columns. Since GHG emissions is the main variable, we can do some basic statistical operations on that variable. We can get measures of central tendency, such as mean and median, and measures of dispersion, such as standard deviation and range.\n",
    "\n",
    "We can access particular columns by typing the name of the data frame and putting the column name in quotes."
   ]
  },
  {
   "cell_type": "code",
   "execution_count": null,
   "metadata": {
    "collapsed": true
   },
   "outputs": [],
   "source": [
    "## measures of central tendency\n",
    "df_gg['2014 GHG Emissions (kilotonnes of carbon dioxide equivalent)'].mean() "
   ]
  },
  {
   "cell_type": "code",
   "execution_count": null,
   "metadata": {
    "collapsed": true
   },
   "outputs": [],
   "source": [
    "df_gg['2014 GHG Emissions (kilotonnes of carbon dioxide equivalent)'].median()"
   ]
  },
  {
   "cell_type": "code",
   "execution_count": null,
   "metadata": {
    "collapsed": true
   },
   "outputs": [],
   "source": [
    "## measures of dispersion\n",
    "df_gg['2014 GHG Emissions (kilotonnes of carbon dioxide equivalent)'].std()"
   ]
  },
  {
   "cell_type": "code",
   "execution_count": null,
   "metadata": {
    "collapsed": true
   },
   "outputs": [],
   "source": [
    "df_gg['2014 GHG Emissions (kilotonnes of carbon dioxide equivalent)'].min()"
   ]
  },
  {
   "cell_type": "code",
   "execution_count": null,
   "metadata": {
    "collapsed": true
   },
   "outputs": [],
   "source": [
    "df_gg['2014 GHG Emissions (kilotonnes of carbon dioxide equivalent)'].max()"
   ]
  },
  {
   "cell_type": "markdown",
   "metadata": {},
   "source": [
    "`describe` is a way to generate multiple different statistics from a numerical column. This includes `min`, `max`, and interquartile values."
   ]
  },
  {
   "cell_type": "code",
   "execution_count": null,
   "metadata": {
    "collapsed": true
   },
   "outputs": [],
   "source": [
    "df_gg['2014 GHG Emissions (kilotonnes of carbon dioxide equivalent)'].describe()"
   ]
  },
  {
   "cell_type": "markdown",
   "metadata": {},
   "source": [
    "Often we are dealing with non-numerical data. Most of the columns in this data frame are in fact non-numeric (in statistics we would call them *categorical* or *ordinal* variables). These contain important information about the facility.\n",
    "\n",
    "Say we want to know which province is most represented here. We can use the <code>value_counts()</code> method on the *Province* column to learn this."
   ]
  },
  {
   "cell_type": "code",
   "execution_count": null,
   "metadata": {
    "collapsed": true
   },
   "outputs": [],
   "source": [
    "df_gg['Province'].value_counts()"
   ]
  },
  {
   "cell_type": "markdown",
   "metadata": {},
   "source": [
    "Alberta has the highest proportion of facilities with a large amount of GHG emissions. Which seems to make sense, since Alberta processes a great deal of fossil fuels.\n",
    "\n",
    "If we just want to know which provinces are in the dataset, we could use the <code>unique()</code> method."
   ]
  },
  {
   "cell_type": "code",
   "execution_count": null,
   "metadata": {
    "collapsed": true
   },
   "outputs": [],
   "source": [
    "df_gg['Province'].unique()"
   ]
  },
  {
   "cell_type": "markdown",
   "metadata": {},
   "source": [
    "**Exercise 3**\n",
    "\n",
    "The [Adult Data Set](http://archive.ics.uci.edu/ml/datasets/Adult) is a sample of the 1994 US Census which includes a number of different variables for adult individuals living in the United States.\n",
    "\n",
    "1. Load the dataset. It is located at 'data/adult_census.csv'.\n",
    "2. Print the data frame. \n",
    "    1. Display the data frame's dimensions. How many rows does it have? How many columns?\n",
    "    2. Display the data frame's types.\n",
    "3. Take the mean of `hours-per-week`.\n",
    "4. Get the min and max of `capital-gain`.\n",
    "5. `income` is measured as a *dichotomous* variable, that is, it can take one of two values (<=50K and >50K). Count how many times each value occurs in the dataset."
   ]
  },
  {
   "cell_type": "markdown",
   "metadata": {},
   "source": [
    "## Adding and removing columns\n",
    "\n",
    "Once we have the data frame, we can change it in important ways. We can add new columns to store new information or we can rename columns.\n",
    "\n",
    "The GHG emissions column has a really long name. Let's just call it GHG."
   ]
  },
  {
   "cell_type": "code",
   "execution_count": null,
   "metadata": {
    "collapsed": true
   },
   "outputs": [],
   "source": [
    "df_gg['GHG'] = df_gg['2014 GHG Emissions (kilotonnes of carbon dioxide equivalent)']\n",
    "del df_gg['2014 GHG Emissions (kilotonnes of carbon dioxide equivalent)']"
   ]
  },
  {
   "cell_type": "code",
   "execution_count": null,
   "metadata": {
    "collapsed": true
   },
   "outputs": [],
   "source": [
    "df_gg"
   ]
  },
  {
   "cell_type": "markdown",
   "metadata": {},
   "source": [
    "This does two things. It assigns the values in the original column to a new one. Then, it deletes the original column with the <code>del</code> operator. This will also change the order of the columns because pandas will add GHG to the end. You can confirm this by yourself by typing <code>df_gg.columns</code> again.\n",
    "\n",
    "You can set new entire columns by assigning a value to them. Let's say we want to add a country column. These are all in Canada, so we can just set them to Canada."
   ]
  },
  {
   "cell_type": "code",
   "execution_count": null,
   "metadata": {
    "collapsed": true
   },
   "outputs": [],
   "source": [
    "df_gg['Country'] = 'Canada'"
   ]
  },
  {
   "cell_type": "code",
   "execution_count": null,
   "metadata": {
    "collapsed": true
   },
   "outputs": [],
   "source": [
    "df_gg"
   ]
  },
  {
   "cell_type": "markdown",
   "metadata": {},
   "source": [
    "This isn't terribly useful here, but once we show how to take slices of data, it is much more powerful."
   ]
  },
  {
   "cell_type": "markdown",
   "metadata": {},
   "source": [
    "## Slicing and selecting\n",
    "\n",
    "One of the big reasons that pandas was created is because Python needed a way to index, access, and select data by names and to use those indexes to perform multiple operations at once. This is where slicing and selecting comes in. This is both the most powerful (and often most frustrating) parts of pandas.\n",
    "\n",
    "For instance, say I just want to look at GHG emissions within Ontario. I can select (also called *subsetting*) the data by using a conditional statement that matches for instances of Ontario in the province variable. I can also assign that to a new data frame."
   ]
  },
  {
   "cell_type": "code",
   "execution_count": null,
   "metadata": {
    "collapsed": true
   },
   "outputs": [],
   "source": [
    "df_gg_ON = df_gg[df_gg['Province'] == 'Ontario']\n",
    "df_gg_ON.shape"
   ]
  },
  {
   "cell_type": "code",
   "execution_count": null,
   "metadata": {
    "collapsed": true
   },
   "outputs": [],
   "source": [
    "df_gg_TO = df_gg[(df_gg['Province'] == 'Ontario') & (df_gg['City'] == 'Toronto')]\n",
    "df_gg_TO.shape"
   ]
  },
  {
   "cell_type": "code",
   "execution_count": null,
   "metadata": {
    "collapsed": true
   },
   "outputs": [],
   "source": [
    "df_gg_ON.head(3)"
   ]
  },
  {
   "cell_type": "markdown",
   "metadata": {},
   "source": [
    "We can also select by numerical conditions. Let's get all the facilities which have GHG emissions higher than the median."
   ]
  },
  {
   "cell_type": "code",
   "execution_count": null,
   "metadata": {
    "collapsed": true
   },
   "outputs": [],
   "source": [
    "df_gg_top50percent = df_gg[df_gg['GHG'] > df_gg['GHG'].median()]\n",
    "df_gg_top50percent.shape"
   ]
  },
  {
   "cell_type": "code",
   "execution_count": null,
   "metadata": {
    "collapsed": true
   },
   "outputs": [],
   "source": [
    "df_gg_top50percent.head(3)"
   ]
  },
  {
   "cell_type": "markdown",
   "metadata": {},
   "source": [
    "Finally, we can combine different select conditions with logical operators <code>&</code> and <code>|</code>. <code>&</code> (called an ampersand) is an operator referred to as \"bitwise and\", while <code>|</code> (called a pipe) is an operator referred to as \"bitwise or\". \n",
    "\n",
    "We also need to wrap each condition in parenthesis.\n",
    "\n",
    "Let's get those which are in the top 50 percent and also are in Ontario."
   ]
  },
  {
   "cell_type": "code",
   "execution_count": null,
   "metadata": {
    "collapsed": true
   },
   "outputs": [],
   "source": [
    "df_gg_top50percent_ON = df_gg[(df_gg['GHG'] > df_gg['GHG'].median()) & (df_gg['Province'] == 'Ontario')]\n",
    "df_gg_top50percent_ON.shape"
   ]
  },
  {
   "cell_type": "code",
   "execution_count": null,
   "metadata": {
    "collapsed": true
   },
   "outputs": [],
   "source": [
    "df_gg_top50percent_ON.head(3)"
   ]
  },
  {
   "cell_type": "markdown",
   "metadata": {},
   "source": [
    "This is probably the most important way you're going to be subseting data within pandas. You can also get different data by position in the table. Let's say I just want to get the first two rows of the file. We can use a syntax which is the same as list slices."
   ]
  },
  {
   "cell_type": "code",
   "execution_count": null,
   "metadata": {
    "collapsed": true
   },
   "outputs": [],
   "source": [
    "df_gg[0:2]"
   ]
  },
  {
   "cell_type": "code",
   "execution_count": null,
   "metadata": {
    "collapsed": true
   },
   "outputs": [],
   "source": [
    "df_gg.head(2) "
   ]
  },
  {
   "cell_type": "markdown",
   "metadata": {},
   "source": [
    "In a similar manner, we can also select on several columns. Say we only want to know the facility name, the province, its city, and its GHG value. We can index the data frame by a list of column names."
   ]
  },
  {
   "cell_type": "code",
   "execution_count": null,
   "metadata": {
    "collapsed": true
   },
   "outputs": [],
   "source": [
    "df_gg[['Facility Name', 'City', 'Province', 'GHG']].head()"
   ]
  },
  {
   "cell_type": "markdown",
   "metadata": {},
   "source": [
    "## Manipulating data\n",
    "\n",
    "Another nifty thing about pandas is that we can manipulate data across columns, rows, and even multiple columns and rows, at the same time.\n",
    "\n",
    "Say we want to convert the GHG variable from kilotonnes to just tonnes. That would mean we multiple the column by 1000."
   ]
  },
  {
   "cell_type": "code",
   "execution_count": null,
   "metadata": {
    "collapsed": true
   },
   "outputs": [],
   "source": [
    "df_gg['GHG_tonnes'] = df_gg['GHG'] * 1000\n",
    "df_gg[['GHG', 'GHG_tonnes']].head()"
   ]
  },
  {
   "cell_type": "markdown",
   "metadata": {},
   "source": [
    "We can use the GHG variable (and any numeric variable) in most kinds of arithmetic operations we could like.\n",
    "\n",
    "For string columns, there's a set of methods we can use with those columns. Many of them are similar to the ones we saw last week. The full list is [here](http://pandas.pydata.org/pandas-docs/stable/text.html).\n",
    "\n",
    "Let's say that Toronto officially its name to \"DrakeLand\" tomorrow. We can use <code>contains</code> as an index to find all instances where the City column matches Toronto. **Notice** how after accessing the City column, we use <code>str</code> to note that this is a string operation."
   ]
  },
  {
   "cell_type": "code",
   "execution_count": null,
   "metadata": {
    "collapsed": true
   },
   "outputs": [],
   "source": [
    "df_gg[df_gg['City'].str.contains('Toronto')].head()"
   ]
  },
  {
   "cell_type": "markdown",
   "metadata": {},
   "source": [
    "Now, we can replace all instances of \"Toronto\" with \"DrakeLand\"."
   ]
  },
  {
   "cell_type": "code",
   "execution_count": null,
   "metadata": {
    "collapsed": true
   },
   "outputs": [],
   "source": [
    "df_gg['City'] = df_gg['City'].str.replace('Toronto', 'DrakeLand')"
   ]
  },
  {
   "cell_type": "code",
   "execution_count": null,
   "metadata": {
    "collapsed": true
   },
   "outputs": [],
   "source": [
    "## This should not display any rows.\n",
    "df_gg[df_gg['City'].str.contains('Toronto')].head()"
   ]
  },
  {
   "cell_type": "code",
   "execution_count": null,
   "metadata": {
    "collapsed": true
   },
   "outputs": [],
   "source": [
    "## Best I Ever Had\n",
    "df_gg[df_gg['City'].str.contains('DrakeLand')].head()"
   ]
  },
  {
   "cell_type": "markdown",
   "metadata": {},
   "source": [
    "We can also do things like capitalize or lowercase strings. Let's do the province names."
   ]
  },
  {
   "cell_type": "code",
   "execution_count": null,
   "metadata": {
    "collapsed": true
   },
   "outputs": [],
   "source": [
    "df_gg['Province'] = df_gg['Province'].str.lower() \n",
    "df_gg['Province'].unique()"
   ]
  },
  {
   "cell_type": "code",
   "execution_count": null,
   "metadata": {
    "collapsed": true
   },
   "outputs": [],
   "source": [
    "## Let's convert them back\n",
    "df_gg['Province'] = df_gg['Province'].str.capitalize()\n",
    "df_gg['Province'].unique()"
   ]
  },
  {
   "cell_type": "code",
   "execution_count": null,
   "metadata": {
    "collapsed": true
   },
   "outputs": [],
   "source": [
    "## We can use title to capitalize the beginning of each word\n",
    "df_gg['Province'] = df_gg['Province'].str.title()\n",
    "df_gg['Province'].unique()"
   ]
  },
  {
   "cell_type": "markdown",
   "metadata": {},
   "source": [
    "**Exercise 4**\n",
    "\n",
    "Let's go back to the Adult data set.\n",
    "\n",
    "1. Select only the rows in which income is >50K and assign these rows to a new data frame.\n",
    "2. Select rows which 1) have income <=50K AND 2) work for the federal government (`workclass` equals `Federal-gov`).\n",
    "3. Create a new data frame which only has two columns: `income` and `education-num`. \n",
    "4. Convert age in years into age into days, i.e. multiply age by 365. Put this in a new column called `age-in-days`.\n",
    "5. Change every mention of the value `HS-grad` in the `education` column to the value `secondary-grad`."
   ]
  },
  {
   "cell_type": "markdown",
   "metadata": {},
   "source": [
    "## DataCamp assigment (optional)\n",
    "\n",
    "For more practice on this, I've assigned pandas Foundations in DataCamp."
   ]
  }
 ],
 "metadata": {
  "anaconda-cloud": {},
  "kernelspec": {
   "display_name": "Python 3",
   "language": "python",
   "name": "python3"
  },
  "language_info": {
   "codemirror_mode": {
    "name": "ipython",
    "version": 3
   },
   "file_extension": ".py",
   "mimetype": "text/x-python",
   "name": "python",
   "nbconvert_exporter": "python",
   "pygments_lexer": "ipython3",
   "version": "3.6.3"
  }
 },
 "nbformat": 4,
 "nbformat_minor": 1
}
